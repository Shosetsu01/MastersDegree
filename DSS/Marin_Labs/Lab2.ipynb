{
 "cells": [
  {
   "attachments": {},
   "cell_type": "markdown",
   "metadata": {},
   "source": [
    "2. Двумерная оптимизация выбрать один метод (Розенброк, нелдер-мид, Хук-Дживс)\n"
   ]
  },
  {
   "cell_type": "code",
   "execution_count": 2,
   "metadata": {},
   "outputs": [],
   "source": [
    "import numpy as np\n",
    "import matplotlib.pyplot as plt"
   ]
  },
  {
   "attachments": {},
   "cell_type": "markdown",
   "metadata": {},
   "source": [
    "Функция step_2_3 выполняет шаги 2 и 3 метода Нелдера-Мида. \n",
    "\n",
    "Она принимает на вход dots - массив точек, n - размерность пространства, dtype - тип данных для массива, plot - флаг для сохранения точек, array_dots - массив для сохранения всех точек на каждой итерации. Внутри функции точки преобразуются в массив numpy с заданным типом данных. Затем точки сортируются по значению функции f_x в порядке убывания. Если plot равен True, то текущие точки добавляются в array_dots. Затем вычисляется центр тяжести x_n2 путем нахождения среднего значения всех точек, кроме первой."
   ]
  },
  {
   "cell_type": "code",
   "execution_count": 3,
   "metadata": {},
   "outputs": [],
   "source": [
    "def step_2_3(dots, n, dtype, plot, array_dots):\n",
    "    dots = np.array(dots, dtype=dtype) \n",
    "    dots = np.sort(dots, order='f_x')[::-1]\n",
    "    if plot:\n",
    "        array_dots.append(list(dots['x'].copy()))\n",
    "    x_n2 = 1 / n * (np.sum(dots[1:]['x'],  axis=0)) # центр тяжести\n",
    "    return dots, x_n2"
   ]
  },
  {
   "attachments": {},
   "cell_type": "markdown",
   "metadata": {},
   "source": [
    "Функция nelder_mead_method реализует метод Нелдера-Мида для оптимизации функции. \n",
    "\n",
    "Она принимает следующие параметры: a, b, y - коэффициенты метода, E - допустимая погрешность, n - размерность пространства, f - оптимизируемая функция, dots - начальные точки, plot - флаг для визуализации шагов, x0 - начальная точка при отсутствии dots, h - шаг для создания начальных точек.\n",
    "\n",
    "Внутри функции создается массив array_dots для сохранения всех точек на каждой итерации, а также задается тип данных dtype для массива точек. Если передана начальная точка x0, то создается массив dots размером (n + 1, n) с заполнением значений x0 и диагонали с добавлением h. Если dots не переданы, то случайным образом создается массив точек размером (n + 1, n). Затем точки преобразуются в пары (f_x, x) с помощью функции f(x).\n",
    "\n",
    "Далее выполняется цикл, пока условие остановки не будет выполнено. В каждой итерации вычисляется точка x_n3 путем отражения точки dots[0]['x'] относительно центра тяжести x_n2 с коэффициентом a. Затем вычисляется значение функции f_xn3 для точки x_n3. Если f_xn3 меньше или равно значению последней точки, выполняется растяжение точки x_n3 с коэффициентом y. Если значение функции после растяжения меньше значения последней точки, то tmp присваивается значение растянутой точки x_n4, иначе tmp присваивается значение точки x_n3. Первая точка dots[0] обновляется с новым значением tmp. Если f_xn3 находится между значениями второй и первой точек, выполняется сжатие точки `dots`\n",
    "\n",
    "Если f_xn3 больше значения первой точки, выполняется сжатие точки x_n2 относительно первой точки dots[0]['x'] с коэффициентом b. Первая точка dots[0] обновляется с новым значением tmp.\n",
    "\n",
    "Если f_xn3 находится между значениями последней и второй точек, обновляется первая точка dots[0] с новым значением x_n3.\n",
    "\n",
    "Если f_xn3 больше значения первой точки, выполняется сжатие точек dots. Все точки обновляются в соответствии с формулой dots = dots[-1]['x'] + 0.5 * (dots['x'] - dots[-1]['x']), а затем преобразуются в пары (f_x, x).\n",
    "\n",
    "После выполнения одной итерации метода Нелдера-Мида, точки dots и центр тяжести x_n2 обновляются с помощью функции step_2_3.\n",
    "\n",
    "В конце функции, если установлен флаг plot, возвращается массив всех точек на каждой итерации и последняя точка dots[-1]['x']. В противном случае возвращается только последняя точка dots[-1]['x']."
   ]
  },
  {
   "cell_type": "code",
   "execution_count": 4,
   "metadata": {},
   "outputs": [],
   "source": [
    "def nelder_mead_method(a, b, y, E, n, f, dots=None, plot=False, x0=None, h=10):\n",
    "    array_dots = []\n",
    "    dtype = [('f_x', float), ('x', np.float64, (n,))]\n",
    "    if  x0 is not None:\n",
    "        dots = np.full((n + 1, n), x0)\n",
    "        np.fill_diagonal(dots, dots.diagonal() + h)\n",
    "    if dots is None:\n",
    "        dots = np.random.random((n + 1, n))\n",
    "    dots = [(f(x), x) for x in dots]\n",
    "    dots, x_n2 = step_2_3(dots, n, dtype, plot, array_dots)\n",
    "    while np.sqrt(np.sum((dots['f_x'] - f(x_n2)) ** 2) / (n + 1)) >= E:\n",
    "        x_n3 = x_n2 + a * (x_n2 - dots[0]['x']) # отражения\n",
    "        f_xn3 = f(x_n3)\n",
    "        if f_xn3 <= dots[-1]['f_x']:\n",
    "            x_n4 = x_n2 + y * (x_n3 - x_n2) # растяжение\n",
    "            if f(x_n4) < dots[-1]['f_x']:\n",
    "                tmp = x_n4\n",
    "            else:\n",
    "                tmp = x_n3\n",
    "            dots[0] = np.array((f(tmp), tmp), dtype=dtype) \n",
    "        elif dots[1]['f_x'] < f_xn3 <= dots[0]['f_x']:\n",
    "            tmp = x_n2 + b * (dots[0]['x'] - x_n2) # сжатия\n",
    "            dots[0] = np.array((f(tmp), tmp), dtype=dtype) \n",
    "        elif dots[-1]['f_x'] < f_xn3 <= dots[1]['f_x']:\n",
    "            dots[0] = np.array((f(x_n3), x_n3), dtype=dtype) \n",
    "        elif f_xn3 > dots[0]['f_x']:\n",
    "            dots = dots[-1]['x'] + 0.5 * (dots['x'] - dots[-1]['x'])\n",
    "            dots = [(f(x), x) for x in dots ]\n",
    "        dots, x_n2 = step_2_3(dots, n, dtype, plot, array_dots)\n",
    "    if plot:\n",
    "        return array_dots, dots[-1]['x']\n",
    "    return dots[-1]['x']"
   ]
  },
  {
   "attachments": {},
   "cell_type": "markdown",
   "metadata": {},
   "source": [
    "Код запуска программы:"
   ]
  },
  {
   "cell_type": "code",
   "execution_count": 21,
   "metadata": {},
   "outputs": [
    {
     "name": "stdout",
     "output_type": "stream",
     "text": [
      "0.0791015625 12.5625\n"
     ]
    },
    {
     "data": {
      "image/png": "[encoded data removed]",
      "text/plain": [
       "<Figure size 640x480 with 1 Axes>"
      ]
     },
     "metadata": {},
     "output_type": "display_data"
    }
   ],
   "source": [
    "if __name__ == \"__main__\":\n",
    "    n = 2\n",
    "    f = lambda x : 2 * (x[0] - 4) ** 2 + (x[1] - 3) ** 2\n",
    "    E = 0.2\n",
    "    a, b, y = 1, 0.5, 2\n",
    "    dots = np.array([[8,9], [10, 11], [8, 11]], dtype=float)\n",
    "    ans = nelder_mead_method(a, b, y, E, n, f, dots)\n",
    "    print(f(ans), f((5, 6.25)))\n",
    "    array_dots, ans = nelder_mead_method(a, b, y, E, n, f, dots, plot=True)\n",
    "    X = []\n",
    "    Y = []\n",
    "\n",
    "    for dots in array_dots:\n",
    "        for x, y in dots:\n",
    "            X.append(x)\n",
    "            Y.append(y)\n",
    "        X.append(dots[0][0])\n",
    "        Y.append(dots[0][1])\n",
    "\n",
    "    plt.plot(X, Y, marker=\".\", c=\"b\")\n",
    "    plt.scatter(5, 6.25, color='red', s=40, marker='o')\n",
    "    plt.show()"
   ]
  }
 ],
 "metadata": {
  "kernelspec": {
   "display_name": "Python 3",
   "language": "python",
   "name": "python3"
  },
  "language_info": {
   "codemirror_mode": {
    "name": "ipython",
    "version": 3
   },
   "file_extension": ".py",
   "mimetype": "text/x-python",
   "name": "python",
   "nbconvert_exporter": "python",
   "pygments_lexer": "ipython3",
   "version": "3.11.0"
  },
  "orig_nbformat": 4
 },
 "nbformat": 4,
 "nbformat_minor": 2
}
